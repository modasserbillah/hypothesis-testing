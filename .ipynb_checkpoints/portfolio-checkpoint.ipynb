{
 "cells": [
  {
   "cell_type": "markdown",
   "metadata": {},
   "source": [
    "## Are university towns housing prices less affected by recession?\n",
    "\n",
    "In this data analysis project, we will formulate a hypothesis around this question, gather and process required data and finally test our hypothesis.\n",
    "\n",
    "### Strategy\n",
    "\n",
    "We will use 3 datasources for this project. \n",
    "1. We will use GDP data from Bureau of Economic Analysis, US Department of Commerce, the GDP over time of the United States in current dollars (using the chained value in 2009 dollars), in quarterly intervals, in the file gdplev.xls. We will use this data to determine recession periods. For this project, we will only look at GDP data from the first quarter of 2000 onward.\n",
    "\n",
    "2. We will use housing price data from the Zillow research data site. There is housing data for the United States. In particular the datafile for all homes at a city level, 'City_Zhvi_AllHomes.csv', has median home sale prices at a fine grained level.\n",
    "\n",
    "3. We will use a list of university towns collected from Wikipedia to divide the housing price data in two sets as university towns and non-university towns. We have this data in the 'university_towns.txt' file.\n",
    "\n",
    "So, we will use the above mentioned data sources and manipulate and transform them to test our hypothesis.\n",
    "\n",
    "### Hypothesis\n",
    "#### University towns have their mean housing prices less affected by recessions.\n",
    "\n",
    "### Required Definitions\n",
    "* A _quarter_ is a specific three month period, Q1 is January through March, Q2 is April through June, Q3 is July through September, Q4 is October through December.\n",
    "* A _recession_ is defined as starting with two consecutive quarters of GDP decline, and ending with two consecutive quarters of GDP growth.\n",
    "* A _recession bottom_ is the quarter within a recession which had the lowest GDP.\n",
    "* A _university town_ is a city which has a high percentage of university students compared to the total population of the city.\n"
   ]
  },
  {
   "cell_type": "code",
   "execution_count": 1,
   "metadata": {
    "collapsed": true
   },
   "outputs": [],
   "source": [
    "### Import necessary libraries\n",
    "\n",
    "import pandas as pd\n",
    "import numpy as np\n",
    "from scipy.stats import ttest_ind\n",
    "\n",
    "from matplotlib import pyplot as plt\n",
    "%matplotlib inline"
   ]
  },
  {
   "cell_type": "code",
   "execution_count": 2,
   "metadata": {
    "collapsed": true
   },
   "outputs": [],
   "source": [
    "# Use this dictionary to map state names to two letter acronyms\n",
    "states = {'OH': 'Ohio', 'KY': 'Kentucky', 'AS': 'American Samoa', 'NV': 'Nevada', 'WY': 'Wyoming', 'NA': 'National', 'AL': 'Alabama', 'MD': 'Maryland', 'AK': 'Alaska', 'UT': 'Utah', 'OR': 'Oregon', 'MT': 'Montana', 'IL': 'Illinois', 'TN': 'Tennessee', 'DC': 'District of Columbia', 'VT': 'Vermont', 'ID': 'Idaho', 'AR': 'Arkansas', 'ME': 'Maine', 'WA': 'Washington', 'HI': 'Hawaii', 'WI': 'Wisconsin', 'MI': 'Michigan', 'IN': 'Indiana', 'NJ': 'New Jersey', 'AZ': 'Arizona', 'GU': 'Guam', 'MS': 'Mississippi', 'PR': 'Puerto Rico', 'NC': 'North Carolina', 'TX': 'Texas', 'SD': 'South Dakota', 'MP': 'Northern Mariana Islands', 'IA': 'Iowa', 'MO': 'Missouri', 'CT': 'Connecticut', 'WV': 'West Virginia', 'SC': 'South Carolina', 'LA': 'Louisiana', 'KS': 'Kansas', 'NY': 'New York', 'NE': 'Nebraska', 'OK': 'Oklahoma', 'FL': 'Florida', 'CA': 'California', 'CO': 'Colorado', 'PA': 'Pennsylvania', 'DE': 'Delaware', 'NM': 'New Mexico', 'RI': 'Rhode Island', 'MN': 'Minnesota', 'VI': 'Virgin Islands', 'NH': 'New Hampshire', 'MA': 'Massachusetts', 'GA': 'Georgia', 'ND': 'North Dakota', 'VA': 'Virginia'}"
   ]
  },
  {
   "cell_type": "code",
   "execution_count": 3,
   "metadata": {
    "collapsed": true
   },
   "outputs": [],
   "source": [
    "def get_list_of_university_towns():\n",
    "    '''Returns a DataFrame of towns and the states they are in from the \n",
    "    university_towns.txt list. The format of the DataFrame should be:\n",
    "    DataFrame( [ [\"Michigan\", \"Ann Arbor\"], [\"Michigan\", \"Yipsilanti\"] ], \n",
    "    columns=[\"State\", \"RegionName\"]  )\n",
    "    \n",
    "    The following cleaning needs to be done:\n",
    "\n",
    "    1. For \"State\", removing characters from \"[\" to the end.\n",
    "    2. For \"RegionName\", when applicable, removing every character from \" (\" to the end.\n",
    "    3. Remove newline character '\\n'. '''\n",
    "    ut_list = []\n",
    "    \n",
    "    with open('university_towns.txt') as f:\n",
    "        for line in f:\n",
    "            if 'edit' in line:\n",
    "                current_city = line.split('[')[0].strip()\n",
    "            else:\n",
    "                ut_list.append((current_city, line.split('(')[0].strip()))\n",
    "                \n",
    "    ut_df = pd.DataFrame.from_records(ut_list)\n",
    "    ut_df.columns = ['State', 'RegionName']\n",
    "    return ut_df"
   ]
  },
  {
   "cell_type": "code",
   "execution_count": 4,
   "metadata": {},
   "outputs": [
    {
     "data": {
      "text/html": [
       "<div>\n",
       "<style scoped>\n",
       "    .dataframe tbody tr th:only-of-type {\n",
       "        vertical-align: middle;\n",
       "    }\n",
       "\n",
       "    .dataframe tbody tr th {\n",
       "        vertical-align: top;\n",
       "    }\n",
       "\n",
       "    .dataframe thead th {\n",
       "        text-align: right;\n",
       "    }\n",
       "</style>\n",
       "<table border=\"1\" class=\"dataframe\">\n",
       "  <thead>\n",
       "    <tr style=\"text-align: right;\">\n",
       "      <th></th>\n",
       "      <th>State</th>\n",
       "      <th>RegionName</th>\n",
       "    </tr>\n",
       "  </thead>\n",
       "  <tbody>\n",
       "    <tr>\n",
       "      <th>0</th>\n",
       "      <td>Alabama</td>\n",
       "      <td>Auburn</td>\n",
       "    </tr>\n",
       "    <tr>\n",
       "      <th>1</th>\n",
       "      <td>Alabama</td>\n",
       "      <td>Florence</td>\n",
       "    </tr>\n",
       "    <tr>\n",
       "      <th>2</th>\n",
       "      <td>Alabama</td>\n",
       "      <td>Jacksonville</td>\n",
       "    </tr>\n",
       "    <tr>\n",
       "      <th>3</th>\n",
       "      <td>Alabama</td>\n",
       "      <td>Livingston</td>\n",
       "    </tr>\n",
       "    <tr>\n",
       "      <th>4</th>\n",
       "      <td>Alabama</td>\n",
       "      <td>Montevallo</td>\n",
       "    </tr>\n",
       "  </tbody>\n",
       "</table>\n",
       "</div>"
      ],
      "text/plain": [
       "     State    RegionName\n",
       "0  Alabama        Auburn\n",
       "1  Alabama      Florence\n",
       "2  Alabama  Jacksonville\n",
       "3  Alabama    Livingston\n",
       "4  Alabama    Montevallo"
      ]
     },
     "execution_count": 4,
     "metadata": {},
     "output_type": "execute_result"
    }
   ],
   "source": [
    "ut_df = get_list_of_university_towns()\n",
    "ut_df.head()"
   ]
  },
  {
   "cell_type": "code",
   "execution_count": 5,
   "metadata": {
    "collapsed": true
   },
   "outputs": [],
   "source": [
    "def get_gdp_df():\n",
    "    '''this function reads the gdp data and returns a dataframe with only the required columns'''\n",
    "    gdplev = pd.ExcelFile('gdplev.xls')\n",
    "    gdplev = gdplev.parse(\"Sheet1\", skiprows=219)\n",
    "    gdplev = gdplev[['1999q4', 9926.1]]\n",
    "    gdplev.columns = ['quarter','gdp']\n",
    "    return gdplev"
   ]
  },
  {
   "cell_type": "markdown",
   "metadata": {},
   "source": [
    "Let's look at the gdp data visually first."
   ]
  },
  {
   "cell_type": "code",
   "execution_count": 21,
   "metadata": {
    "collapsed": true
   },
   "outputs": [],
   "source": [
    "gdp = get_gdp_df()"
   ]
  },
  {
   "cell_type": "code",
   "execution_count": 76,
   "metadata": {},
   "outputs": [
    {
     "data": {
      "image/png": "[encoded data removed]",
      "text/plain": [
       "<matplotlib.figure.Figure at 0x2069a7b62b0>"
      ]
     },
     "metadata": {},
     "output_type": "display_data"
    }
   ],
   "source": [
    "ax = gdp.plot.bar(title='gdp in quarters', figsize=(20, 10),  legend=True, x='quarter', y='gdp')\n",
    "plt.show()"
   ]
  },
  {
   "cell_type": "markdown",
   "metadata": {},
   "source": [
    " We can see there's small dip in the middle. Let's find out the recession period and look at it more closely."
   ]
  },
  {
   "cell_type": "code",
   "execution_count": 6,
   "metadata": {
    "collapsed": true
   },
   "outputs": [],
   "source": [
    "def get_recession_start():\n",
    "    '''Returns the year and quarter of the recession start time as a \n",
    "    string value in a format such as 2005q3'''\n",
    "    gdplev = get_gdp_df()\n",
    "    for i in range(2, len(gdplev)):\n",
    "        if (gdplev.iloc[i-2][1] > gdplev.iloc[i-1][1]) and (gdplev.iloc[i-1][1] > gdplev.iloc[i][1]):\n",
    "            return gdplev.iloc[i-2][0]\n"
   ]
  },
  {
   "cell_type": "markdown",
   "metadata": {},
   "source": [
    "The above function finds the start of a recession based on the definition above. Let's run this and find the starting point for recession."
   ]
  },
  {
   "cell_type": "code",
   "execution_count": 7,
   "metadata": {},
   "outputs": [
    {
     "data": {
      "text/plain": [
       "'2008q3'"
      ]
     },
     "execution_count": 7,
     "metadata": {},
     "output_type": "execute_result"
    }
   ],
   "source": [
    "get_recession_start()"
   ]
  },
  {
   "cell_type": "markdown",
   "metadata": {},
   "source": [
    "So, within our window of analysis, a recession had started in the 3rd quarter of 2008 as is well known"
   ]
  },
  {
   "cell_type": "markdown",
   "metadata": {},
   "source": [
    "This function finds the end of a recession according to the definition."
   ]
  },
  {
   "cell_type": "code",
   "execution_count": 8,
   "metadata": {
    "collapsed": true
   },
   "outputs": [],
   "source": [
    "def get_recession_end():\n",
    "    '''Returns the year and quarter of the recession end time as a \n",
    "    string value in a format such as 2005q3'''\n",
    "\n",
    "    gdplev = get_gdp_df()\n",
    "    start = get_recession_start()\n",
    "    start_index = gdplev[gdplev['quarter'] == start].index.tolist()[0]\n",
    "    gdplev=gdplev.iloc[start_index:]\n",
    "    for i in range(2, len(gdplev)):\n",
    "        if (gdplev.iloc[i-2][1] < gdplev.iloc[i-1][1]) and (gdplev.iloc[i-1][1] < gdplev.iloc[i][1]):\n",
    "            return gdplev.iloc[i][0]"
   ]
  },
  {
   "cell_type": "markdown",
   "metadata": {},
   "source": [
    "Let's run this and find out the end of the recession period"
   ]
  },
  {
   "cell_type": "code",
   "execution_count": 9,
   "metadata": {},
   "outputs": [
    {
     "data": {
      "text/plain": [
       "'2009q4'"
      ]
     },
     "execution_count": 9,
     "metadata": {},
     "output_type": "execute_result"
    }
   ],
   "source": [
    "get_recession_end()"
   ]
  },
  {
   "cell_type": "markdown",
   "metadata": {},
   "source": [
    "So, the recession ended in the last quarter of 2009. It lasted over a year!"
   ]
  },
  {
   "cell_type": "markdown",
   "metadata": {},
   "source": [
    "Now let's figure out the bottom of the recession"
   ]
  },
  {
   "cell_type": "code",
   "execution_count": 10,
   "metadata": {
    "collapsed": true
   },
   "outputs": [],
   "source": [
    "def get_recession_bottom():\n",
    "    '''Returns the year and quarter of the recession bottom time as a \n",
    "    string value in a format such as 2005q3'''\n",
    "    gdp = get_gdp_df()\n",
    "    a = gdp.index[gdp['quarter'] == get_recession_start()][0]\n",
    "    b = gdp.index[gdp['quarter'] == get_recession_end()][0]\n",
    "    \n",
    "    \n",
    "    return gdp.iloc[gdp.iloc[a:b+1, 1 ].idxmin(), 0]"
   ]
  },
  {
   "cell_type": "code",
   "execution_count": 11,
   "metadata": {
    "scrolled": true
   },
   "outputs": [
    {
     "data": {
      "text/plain": [
       "'2009q2'"
      ]
     },
     "execution_count": 11,
     "metadata": {},
     "output_type": "execute_result"
    }
   ],
   "source": [
    "get_recession_bottom()"
   ]
  },
  {
   "cell_type": "markdown",
   "metadata": {},
   "source": [
    "Now, that we have figured out the recession period, let's visualize the period."
   ]
  },
  {
   "cell_type": "code",
   "execution_count": 38,
   "metadata": {
    "collapsed": true
   },
   "outputs": [],
   "source": [
    "recession_start_index = gdp.loc[gdp.quarter == get_recession_start(), :].index[0]\n",
    "recession_end_index = gdp.loc[gdp.quarter == get_recession_end(), :].index[0]"
   ]
  },
  {
   "cell_type": "code",
   "execution_count": 63,
   "metadata": {
    "collapsed": true
   },
   "outputs": [],
   "source": [
    "# we take two previous quarters before recession into account to capture the start of recession in the graph\n",
    "recession = gdp.iloc[recession_start_index-2: recession_end_index+1, :] "
   ]
  },
  {
   "cell_type": "code",
   "execution_count": 64,
   "metadata": {},
   "outputs": [
    {
     "data": {
      "text/plain": [
       "([<matplotlib.axis.XTick at 0x2069402a780>,\n",
       "  <matplotlib.axis.XTick at 0x20693639e80>,\n",
       "  <matplotlib.axis.XTick at 0x2069a24f710>,\n",
       "  <matplotlib.axis.XTick at 0x2069355cd68>,\n",
       "  <matplotlib.axis.XTick at 0x20693541400>,\n",
       "  <matplotlib.axis.XTick at 0x20693541a58>,\n",
       "  <matplotlib.axis.XTick at 0x206935510f0>,\n",
       "  <matplotlib.axis.XTick at 0x2069355c7b8>],\n",
       " <a list of 8 Text xticklabel objects>)"
      ]
     },
     "execution_count": 64,
     "metadata": {},
     "output_type": "execute_result"
    },
    {
     "data": {
      "image/png": "[encoded data removed]",
      "text/plain": [
       "<matplotlib.figure.Figure at 0x206935af7b8>"
      ]
     },
     "metadata": {},
     "output_type": "display_data"
    }
   ],
   "source": [
    "recession.set_index('quarter').plot.line(title='gdp in quarters', figsize=(20, 10), style='-', marker='o')\n",
    "plt.xticks([x for x in range(len(recession.index))], recession.quarter)"
   ]
  },
  {
   "cell_type": "markdown",
   "metadata": {},
   "source": [
    "So, the 2nd quarter of 2009 had the lowest GDP. We can see two consecutive decrease starting from 2008q3 and two consecutive growth starting from 2009q3. So, 2009q4 marks the end of this recession period."
   ]
  },
  {
   "cell_type": "markdown",
   "metadata": {},
   "source": [
    "So, we have determined the important data points related to recession. Let's look into the housing price data now."
   ]
  },
  {
   "cell_type": "code",
   "execution_count": 12,
   "metadata": {},
   "outputs": [
    {
     "data": {
      "text/html": [
       "<div>\n",
       "<style scoped>\n",
       "    .dataframe tbody tr th:only-of-type {\n",
       "        vertical-align: middle;\n",
       "    }\n",
       "\n",
       "    .dataframe tbody tr th {\n",
       "        vertical-align: top;\n",
       "    }\n",
       "\n",
       "    .dataframe thead th {\n",
       "        text-align: right;\n",
       "    }\n",
       "</style>\n",
       "<table border=\"1\" class=\"dataframe\">\n",
       "  <thead>\n",
       "    <tr style=\"text-align: right;\">\n",
       "      <th></th>\n",
       "      <th>RegionID</th>\n",
       "      <th>RegionName</th>\n",
       "      <th>State</th>\n",
       "      <th>Metro</th>\n",
       "      <th>CountyName</th>\n",
       "      <th>SizeRank</th>\n",
       "      <th>1996-04</th>\n",
       "      <th>1996-05</th>\n",
       "      <th>1996-06</th>\n",
       "      <th>1996-07</th>\n",
       "      <th>...</th>\n",
       "      <th>2015-11</th>\n",
       "      <th>2015-12</th>\n",
       "      <th>2016-01</th>\n",
       "      <th>2016-02</th>\n",
       "      <th>2016-03</th>\n",
       "      <th>2016-04</th>\n",
       "      <th>2016-05</th>\n",
       "      <th>2016-06</th>\n",
       "      <th>2016-07</th>\n",
       "      <th>2016-08</th>\n",
       "    </tr>\n",
       "  </thead>\n",
       "  <tbody>\n",
       "    <tr>\n",
       "      <th>0</th>\n",
       "      <td>6181</td>\n",
       "      <td>New York</td>\n",
       "      <td>NY</td>\n",
       "      <td>New York</td>\n",
       "      <td>Queens</td>\n",
       "      <td>1</td>\n",
       "      <td>NaN</td>\n",
       "      <td>NaN</td>\n",
       "      <td>NaN</td>\n",
       "      <td>NaN</td>\n",
       "      <td>...</td>\n",
       "      <td>573600</td>\n",
       "      <td>576200</td>\n",
       "      <td>578400</td>\n",
       "      <td>582200</td>\n",
       "      <td>588000</td>\n",
       "      <td>592200</td>\n",
       "      <td>592500</td>\n",
       "      <td>590200</td>\n",
       "      <td>588000</td>\n",
       "      <td>586400</td>\n",
       "    </tr>\n",
       "    <tr>\n",
       "      <th>1</th>\n",
       "      <td>12447</td>\n",
       "      <td>Los Angeles</td>\n",
       "      <td>CA</td>\n",
       "      <td>Los Angeles-Long Beach-Anaheim</td>\n",
       "      <td>Los Angeles</td>\n",
       "      <td>2</td>\n",
       "      <td>155000.0</td>\n",
       "      <td>154600.0</td>\n",
       "      <td>154400.0</td>\n",
       "      <td>154200.0</td>\n",
       "      <td>...</td>\n",
       "      <td>558200</td>\n",
       "      <td>560800</td>\n",
       "      <td>562800</td>\n",
       "      <td>565600</td>\n",
       "      <td>569700</td>\n",
       "      <td>574000</td>\n",
       "      <td>577800</td>\n",
       "      <td>580600</td>\n",
       "      <td>583000</td>\n",
       "      <td>585100</td>\n",
       "    </tr>\n",
       "    <tr>\n",
       "      <th>2</th>\n",
       "      <td>17426</td>\n",
       "      <td>Chicago</td>\n",
       "      <td>IL</td>\n",
       "      <td>Chicago</td>\n",
       "      <td>Cook</td>\n",
       "      <td>3</td>\n",
       "      <td>109700.0</td>\n",
       "      <td>109400.0</td>\n",
       "      <td>109300.0</td>\n",
       "      <td>109300.0</td>\n",
       "      <td>...</td>\n",
       "      <td>207800</td>\n",
       "      <td>206900</td>\n",
       "      <td>206200</td>\n",
       "      <td>205800</td>\n",
       "      <td>206200</td>\n",
       "      <td>207300</td>\n",
       "      <td>208200</td>\n",
       "      <td>209100</td>\n",
       "      <td>211000</td>\n",
       "      <td>213000</td>\n",
       "    </tr>\n",
       "    <tr>\n",
       "      <th>3</th>\n",
       "      <td>13271</td>\n",
       "      <td>Philadelphia</td>\n",
       "      <td>PA</td>\n",
       "      <td>Philadelphia</td>\n",
       "      <td>Philadelphia</td>\n",
       "      <td>4</td>\n",
       "      <td>50000.0</td>\n",
       "      <td>49900.0</td>\n",
       "      <td>49600.0</td>\n",
       "      <td>49400.0</td>\n",
       "      <td>...</td>\n",
       "      <td>122300</td>\n",
       "      <td>121600</td>\n",
       "      <td>121800</td>\n",
       "      <td>123300</td>\n",
       "      <td>125200</td>\n",
       "      <td>126400</td>\n",
       "      <td>127000</td>\n",
       "      <td>127400</td>\n",
       "      <td>128300</td>\n",
       "      <td>129100</td>\n",
       "    </tr>\n",
       "    <tr>\n",
       "      <th>4</th>\n",
       "      <td>40326</td>\n",
       "      <td>Phoenix</td>\n",
       "      <td>AZ</td>\n",
       "      <td>Phoenix</td>\n",
       "      <td>Maricopa</td>\n",
       "      <td>5</td>\n",
       "      <td>87200.0</td>\n",
       "      <td>87700.0</td>\n",
       "      <td>88200.0</td>\n",
       "      <td>88400.0</td>\n",
       "      <td>...</td>\n",
       "      <td>183800</td>\n",
       "      <td>185300</td>\n",
       "      <td>186600</td>\n",
       "      <td>188000</td>\n",
       "      <td>189100</td>\n",
       "      <td>190200</td>\n",
       "      <td>191300</td>\n",
       "      <td>192800</td>\n",
       "      <td>194500</td>\n",
       "      <td>195900</td>\n",
       "    </tr>\n",
       "  </tbody>\n",
       "</table>\n",
       "<p>5 rows × 251 columns</p>\n",
       "</div>"
      ],
      "text/plain": [
       "   RegionID    RegionName State                           Metro    CountyName  \\\n",
       "0      6181      New York    NY                        New York        Queens   \n",
       "1     12447   Los Angeles    CA  Los Angeles-Long Beach-Anaheim   Los Angeles   \n",
       "2     17426       Chicago    IL                         Chicago          Cook   \n",
       "3     13271  Philadelphia    PA                    Philadelphia  Philadelphia   \n",
       "4     40326       Phoenix    AZ                         Phoenix      Maricopa   \n",
       "\n",
       "   SizeRank   1996-04   1996-05   1996-06   1996-07   ...     2015-11  \\\n",
       "0         1       NaN       NaN       NaN       NaN   ...      573600   \n",
       "1         2  155000.0  154600.0  154400.0  154200.0   ...      558200   \n",
       "2         3  109700.0  109400.0  109300.0  109300.0   ...      207800   \n",
       "3         4   50000.0   49900.0   49600.0   49400.0   ...      122300   \n",
       "4         5   87200.0   87700.0   88200.0   88400.0   ...      183800   \n",
       "\n",
       "   2015-12  2016-01  2016-02  2016-03  2016-04  2016-05  2016-06  2016-07  \\\n",
       "0   576200   578400   582200   588000   592200   592500   590200   588000   \n",
       "1   560800   562800   565600   569700   574000   577800   580600   583000   \n",
       "2   206900   206200   205800   206200   207300   208200   209100   211000   \n",
       "3   121600   121800   123300   125200   126400   127000   127400   128300   \n",
       "4   185300   186600   188000   189100   190200   191300   192800   194500   \n",
       "\n",
       "   2016-08  \n",
       "0   586400  \n",
       "1   585100  \n",
       "2   213000  \n",
       "3   129100  \n",
       "4   195900  \n",
       "\n",
       "[5 rows x 251 columns]"
      ]
     },
     "execution_count": 12,
     "metadata": {},
     "output_type": "execute_result"
    }
   ],
   "source": [
    "zillow = pd.read_csv('City_Zhvi_AllHomes.csv')\n",
    "zillow.head()"
   ]
  },
  {
   "cell_type": "code",
   "execution_count": 13,
   "metadata": {},
   "outputs": [
    {
     "data": {
      "text/plain": [
       "(10730, 251)"
      ]
     },
     "execution_count": 13,
     "metadata": {},
     "output_type": "execute_result"
    }
   ],
   "source": [
    "zillow.shape"
   ]
  },
  {
   "cell_type": "markdown",
   "metadata": {},
   "source": [
    "So, after the first look at the data it seems we need the following cleaning:\n",
    "* The states are in short names, so we need to transform this.\n",
    "* It contains month by month prices from 1996, we only need data from 2001 so drop the unnecessary columns.\n",
    "* Use the state and region name for indexing.\n",
    "* Finally, convert month by month data to quarterly data.\n",
    "\n",
    "So, let's get to work!"
   ]
  },
  {
   "cell_type": "code",
   "execution_count": 14,
   "metadata": {
    "collapsed": true
   },
   "outputs": [],
   "source": [
    "def convert_housing_data_to_quarters():\n",
    "    '''Converts the housing data to quarters and returns it as mean housing price    \n",
    "    values in a dataframe. This  is a dataframe with\n",
    "    columns for 2000q1 through 2016q3, and have a multi-index\n",
    "    in the shape of [\"State\",\"RegionName\"].\n",
    "    \n",
    "    Note: Quarters are defined in the definition, they are\n",
    "    not arbitrary three month periods.\n",
    "        \n",
    "    '''\n",
    "    zillow = pd.read_csv('City_Zhvi_AllHomes.csv')\n",
    "    zillow['State'] = zillow['State'].map(states)\n",
    "    zillow.set_index(['State', 'RegionName'], inplace=True)\n",
    "    zillow = zillow.loc[:, '2000-01': ]\n",
    "    \n",
    "    new_columns = [str(x)+y for x in range(2000, 2017) for y in ['q1', 'q2', 'q3', 'q4']]\n",
    "    new_columns = new_columns[:-1] # drop the last quarter of 2016\n",
    "    \n",
    "    x = 0\n",
    "\n",
    "    for c in new_columns:\n",
    "        zillow[c] = zillow.iloc[:, x:x+3].mean(axis=1)\n",
    "        x = x+3\n",
    "    \n",
    "    zillow = zillow.loc[:, '2000q1':]\n",
    "    \n",
    "    \n",
    "    return zillow\n",
    "\n"
   ]
  },
  {
   "cell_type": "markdown",
   "metadata": {},
   "source": [
    "Let's take a look at the shape of the transformed zillow data. It should have the same number of rows as the original file that is 10730 and the number of columns should be 67 (4 quarters in 17 years minus the last  quarter in 2016)"
   ]
  },
  {
   "cell_type": "code",
   "execution_count": 15,
   "metadata": {},
   "outputs": [
    {
     "data": {
      "text/plain": [
       "(10730, 67)"
      ]
     },
     "execution_count": 15,
     "metadata": {},
     "output_type": "execute_result"
    }
   ],
   "source": [
    "convert_housing_data_to_quarters().shape"
   ]
  },
  {
   "cell_type": "markdown",
   "metadata": {},
   "source": [
    "Let's have a peek at the data."
   ]
  },
  {
   "cell_type": "code",
   "execution_count": 16,
   "metadata": {},
   "outputs": [
    {
     "data": {
      "text/html": [
       "<div>\n",
       "<style scoped>\n",
       "    .dataframe tbody tr th:only-of-type {\n",
       "        vertical-align: middle;\n",
       "    }\n",
       "\n",
       "    .dataframe tbody tr th {\n",
       "        vertical-align: top;\n",
       "    }\n",
       "\n",
       "    .dataframe thead th {\n",
       "        text-align: right;\n",
       "    }\n",
       "</style>\n",
       "<table border=\"1\" class=\"dataframe\">\n",
       "  <thead>\n",
       "    <tr style=\"text-align: right;\">\n",
       "      <th></th>\n",
       "      <th></th>\n",
       "      <th>2000q1</th>\n",
       "      <th>2000q2</th>\n",
       "      <th>2000q3</th>\n",
       "      <th>2000q4</th>\n",
       "      <th>2001q1</th>\n",
       "      <th>2001q2</th>\n",
       "      <th>2001q3</th>\n",
       "      <th>2001q4</th>\n",
       "      <th>2002q1</th>\n",
       "      <th>2002q2</th>\n",
       "      <th>...</th>\n",
       "      <th>2014q2</th>\n",
       "      <th>2014q3</th>\n",
       "      <th>2014q4</th>\n",
       "      <th>2015q1</th>\n",
       "      <th>2015q2</th>\n",
       "      <th>2015q3</th>\n",
       "      <th>2015q4</th>\n",
       "      <th>2016q1</th>\n",
       "      <th>2016q2</th>\n",
       "      <th>2016q3</th>\n",
       "    </tr>\n",
       "    <tr>\n",
       "      <th>State</th>\n",
       "      <th>RegionName</th>\n",
       "      <th></th>\n",
       "      <th></th>\n",
       "      <th></th>\n",
       "      <th></th>\n",
       "      <th></th>\n",
       "      <th></th>\n",
       "      <th></th>\n",
       "      <th></th>\n",
       "      <th></th>\n",
       "      <th></th>\n",
       "      <th></th>\n",
       "      <th></th>\n",
       "      <th></th>\n",
       "      <th></th>\n",
       "      <th></th>\n",
       "      <th></th>\n",
       "      <th></th>\n",
       "      <th></th>\n",
       "      <th></th>\n",
       "      <th></th>\n",
       "      <th></th>\n",
       "    </tr>\n",
       "  </thead>\n",
       "  <tbody>\n",
       "    <tr>\n",
       "      <th>New York</th>\n",
       "      <th>New York</th>\n",
       "      <td>NaN</td>\n",
       "      <td>NaN</td>\n",
       "      <td>NaN</td>\n",
       "      <td>NaN</td>\n",
       "      <td>NaN</td>\n",
       "      <td>NaN</td>\n",
       "      <td>NaN</td>\n",
       "      <td>NaN</td>\n",
       "      <td>NaN</td>\n",
       "      <td>NaN</td>\n",
       "      <td>...</td>\n",
       "      <td>515466.666667</td>\n",
       "      <td>522800.000000</td>\n",
       "      <td>528066.666667</td>\n",
       "      <td>532266.666667</td>\n",
       "      <td>540800.000000</td>\n",
       "      <td>557200.000000</td>\n",
       "      <td>572833.333333</td>\n",
       "      <td>582866.666667</td>\n",
       "      <td>591633.333333</td>\n",
       "      <td>587200.000000</td>\n",
       "    </tr>\n",
       "    <tr>\n",
       "      <th>California</th>\n",
       "      <th>Los Angeles</th>\n",
       "      <td>207066.666667</td>\n",
       "      <td>214466.666667</td>\n",
       "      <td>220966.666667</td>\n",
       "      <td>226166.666667</td>\n",
       "      <td>233000.000000</td>\n",
       "      <td>239100.000000</td>\n",
       "      <td>245066.666667</td>\n",
       "      <td>253033.333333</td>\n",
       "      <td>261966.666667</td>\n",
       "      <td>272700.000000</td>\n",
       "      <td>...</td>\n",
       "      <td>498033.333333</td>\n",
       "      <td>509066.666667</td>\n",
       "      <td>518866.666667</td>\n",
       "      <td>528800.000000</td>\n",
       "      <td>538166.666667</td>\n",
       "      <td>547266.666667</td>\n",
       "      <td>557733.333333</td>\n",
       "      <td>566033.333333</td>\n",
       "      <td>577466.666667</td>\n",
       "      <td>458388.888889</td>\n",
       "    </tr>\n",
       "    <tr>\n",
       "      <th>Illinois</th>\n",
       "      <th>Chicago</th>\n",
       "      <td>138400.000000</td>\n",
       "      <td>143633.333333</td>\n",
       "      <td>147866.666667</td>\n",
       "      <td>152133.333333</td>\n",
       "      <td>156933.333333</td>\n",
       "      <td>161800.000000</td>\n",
       "      <td>166400.000000</td>\n",
       "      <td>170433.333333</td>\n",
       "      <td>175500.000000</td>\n",
       "      <td>177566.666667</td>\n",
       "      <td>...</td>\n",
       "      <td>192633.333333</td>\n",
       "      <td>195766.666667</td>\n",
       "      <td>201266.666667</td>\n",
       "      <td>201066.666667</td>\n",
       "      <td>206033.333333</td>\n",
       "      <td>208300.000000</td>\n",
       "      <td>207900.000000</td>\n",
       "      <td>206066.666667</td>\n",
       "      <td>208200.000000</td>\n",
       "      <td>187466.666667</td>\n",
       "    </tr>\n",
       "    <tr>\n",
       "      <th>Pennsylvania</th>\n",
       "      <th>Philadelphia</th>\n",
       "      <td>53000.000000</td>\n",
       "      <td>53633.333333</td>\n",
       "      <td>54133.333333</td>\n",
       "      <td>54700.000000</td>\n",
       "      <td>55333.333333</td>\n",
       "      <td>55533.333333</td>\n",
       "      <td>56266.666667</td>\n",
       "      <td>57533.333333</td>\n",
       "      <td>59133.333333</td>\n",
       "      <td>60733.333333</td>\n",
       "      <td>...</td>\n",
       "      <td>113733.333333</td>\n",
       "      <td>115300.000000</td>\n",
       "      <td>115666.666667</td>\n",
       "      <td>116200.000000</td>\n",
       "      <td>117966.666667</td>\n",
       "      <td>121233.333333</td>\n",
       "      <td>122200.000000</td>\n",
       "      <td>123433.333333</td>\n",
       "      <td>126933.333333</td>\n",
       "      <td>103466.666667</td>\n",
       "    </tr>\n",
       "    <tr>\n",
       "      <th>Arizona</th>\n",
       "      <th>Phoenix</th>\n",
       "      <td>111833.333333</td>\n",
       "      <td>114366.666667</td>\n",
       "      <td>116000.000000</td>\n",
       "      <td>117400.000000</td>\n",
       "      <td>119600.000000</td>\n",
       "      <td>121566.666667</td>\n",
       "      <td>122700.000000</td>\n",
       "      <td>124300.000000</td>\n",
       "      <td>126533.333333</td>\n",
       "      <td>128366.666667</td>\n",
       "      <td>...</td>\n",
       "      <td>164266.666667</td>\n",
       "      <td>165366.666667</td>\n",
       "      <td>168500.000000</td>\n",
       "      <td>171533.333333</td>\n",
       "      <td>174166.666667</td>\n",
       "      <td>179066.666667</td>\n",
       "      <td>183833.333333</td>\n",
       "      <td>187900.000000</td>\n",
       "      <td>191433.333333</td>\n",
       "      <td>167411.111111</td>\n",
       "    </tr>\n",
       "  </tbody>\n",
       "</table>\n",
       "<p>5 rows × 67 columns</p>\n",
       "</div>"
      ],
      "text/plain": [
       "                                  2000q1         2000q2         2000q3  \\\n",
       "State        RegionName                                                  \n",
       "New York     New York                NaN            NaN            NaN   \n",
       "California   Los Angeles   207066.666667  214466.666667  220966.666667   \n",
       "Illinois     Chicago       138400.000000  143633.333333  147866.666667   \n",
       "Pennsylvania Philadelphia   53000.000000   53633.333333   54133.333333   \n",
       "Arizona      Phoenix       111833.333333  114366.666667  116000.000000   \n",
       "\n",
       "                                  2000q4         2001q1         2001q2  \\\n",
       "State        RegionName                                                  \n",
       "New York     New York                NaN            NaN            NaN   \n",
       "California   Los Angeles   226166.666667  233000.000000  239100.000000   \n",
       "Illinois     Chicago       152133.333333  156933.333333  161800.000000   \n",
       "Pennsylvania Philadelphia   54700.000000   55333.333333   55533.333333   \n",
       "Arizona      Phoenix       117400.000000  119600.000000  121566.666667   \n",
       "\n",
       "                                  2001q3         2001q4         2002q1  \\\n",
       "State        RegionName                                                  \n",
       "New York     New York                NaN            NaN            NaN   \n",
       "California   Los Angeles   245066.666667  253033.333333  261966.666667   \n",
       "Illinois     Chicago       166400.000000  170433.333333  175500.000000   \n",
       "Pennsylvania Philadelphia   56266.666667   57533.333333   59133.333333   \n",
       "Arizona      Phoenix       122700.000000  124300.000000  126533.333333   \n",
       "\n",
       "                                  2002q2      ...               2014q2  \\\n",
       "State        RegionName                       ...                        \n",
       "New York     New York                NaN      ...        515466.666667   \n",
       "California   Los Angeles   272700.000000      ...        498033.333333   \n",
       "Illinois     Chicago       177566.666667      ...        192633.333333   \n",
       "Pennsylvania Philadelphia   60733.333333      ...        113733.333333   \n",
       "Arizona      Phoenix       128366.666667      ...        164266.666667   \n",
       "\n",
       "                                  2014q3         2014q4         2015q1  \\\n",
       "State        RegionName                                                  \n",
       "New York     New York      522800.000000  528066.666667  532266.666667   \n",
       "California   Los Angeles   509066.666667  518866.666667  528800.000000   \n",
       "Illinois     Chicago       195766.666667  201266.666667  201066.666667   \n",
       "Pennsylvania Philadelphia  115300.000000  115666.666667  116200.000000   \n",
       "Arizona      Phoenix       165366.666667  168500.000000  171533.333333   \n",
       "\n",
       "                                  2015q2         2015q3         2015q4  \\\n",
       "State        RegionName                                                  \n",
       "New York     New York      540800.000000  557200.000000  572833.333333   \n",
       "California   Los Angeles   538166.666667  547266.666667  557733.333333   \n",
       "Illinois     Chicago       206033.333333  208300.000000  207900.000000   \n",
       "Pennsylvania Philadelphia  117966.666667  121233.333333  122200.000000   \n",
       "Arizona      Phoenix       174166.666667  179066.666667  183833.333333   \n",
       "\n",
       "                                  2016q1         2016q2         2016q3  \n",
       "State        RegionName                                                 \n",
       "New York     New York      582866.666667  591633.333333  587200.000000  \n",
       "California   Los Angeles   566033.333333  577466.666667  458388.888889  \n",
       "Illinois     Chicago       206066.666667  208200.000000  187466.666667  \n",
       "Pennsylvania Philadelphia  123433.333333  126933.333333  103466.666667  \n",
       "Arizona      Phoenix       187900.000000  191433.333333  167411.111111  \n",
       "\n",
       "[5 rows x 67 columns]"
      ]
     },
     "execution_count": 16,
     "metadata": {},
     "output_type": "execute_result"
    }
   ],
   "source": [
    "convert_housing_data_to_quarters().head()"
   ]
  },
  {
   "cell_type": "markdown",
   "metadata": {},
   "source": [
    "So, the data is prepared as desired. Now, we will move into the final phase of the analysis.\n",
    "* We only need to look at the recession period, so we will narrow the columns to recession period.\n",
    "* We need a price ratio column to compare the prices between the start and bottom of the recession.\n",
    "* We need to split the data into university towns and non-university towns to run t-test on our hypothesis."
   ]
  },
  {
   "cell_type": "code",
   "execution_count": 17,
   "metadata": {
    "collapsed": true
   },
   "outputs": [],
   "source": [
    "def run_ttest():\n",
    "    '''First creates new data showing the decline or growth of housing prices\n",
    "    between the recession start and the recession bottom. Then runs a ttest\n",
    "    comparing the university town values to the non-university towns values, \n",
    "    return whether the alternative hypothesis (that the two groups are the same)\n",
    "    is true or not as well as the p-value of the confidence. \n",
    "    \n",
    "    Returns the tuple (different, p, lower) where different=True if the t-test is\n",
    "    True at a p<0.01 (we reject the null hypothesis), or different=False if \n",
    "    otherwise (we cannot reject the null hypothesis). The\n",
    "    value for lower should be either \"university town\" or \"non-university town\"\n",
    "    depending on which has a lower mean price ratio (which is equivilent to a\n",
    "    reduced market loss).'''\n",
    "\n",
    "    # get the start of recession\n",
    "    start = get_recession_start()\n",
    "    #get the bottom of the recession\n",
    "    bottom = get_recession_bottom()\n",
    "    # get the zillow housing data in desired format\n",
    "    housing_data = convert_housing_data_to_quarters()\n",
    "    # keep only the columns from recession starting point and bottom.\n",
    "    housing_data = housing_data.loc[:, start: bottom]\n",
    "    # compute price ratio between the recession points and add it as a column.\n",
    "    housing_data.reset_index(inplace=True)\n",
    "    housing_data['price_ratio'] = (housing_data[start] - housing_data[bottom]) / housing_data[start]\n",
    "    # get the university town list to split the data.\n",
    "    uni_towns = get_list_of_university_towns()  \n",
    "    uni_town_list = uni_towns['RegionName'].tolist()\n",
    "    # add a column to use as splitting condition\n",
    "    housing_data['isUniTown'] = housing_data.RegionName.apply(lambda x: x in uni_town_list)\n",
    "    #split the data into two separate dataframes and drop rows with missing values. The dropping step is needed to \n",
    "    #perform the t-test\n",
    "    uni_data = housing_data[housing_data.isUniTown].copy().dropna()\n",
    "    not_uni_data = housing_data[~housing_data.isUniTown].copy().dropna()\n",
    "    # get the p-value by applying t-test on these two dataframe columns.\n",
    "    p = ttest_ind(uni_data['price_ratio'], not_uni_data['price_ratio'])[1]\n",
    "    # this boolean value will tell us whether we can reject the null hyopthesis or not.\n",
    "    different = p < 0.01   \n",
    "    # this metric will tell us which type of town has the lower housing price ratio (mean) during the recession\n",
    "    lower = 'university town' if uni_data['price_ratio'].mean() < not_uni_data['price_ratio'].mean() else 'non-university town'\n",
    "    \n",
    "    return (different, p, lower)\n"
   ]
  },
  {
   "cell_type": "markdown",
   "metadata": {},
   "source": [
    "Now, let's run the ttest to validate our hypothesis!"
   ]
  },
  {
   "cell_type": "code",
   "execution_count": 18,
   "metadata": {},
   "outputs": [
    {
     "data": {
      "text/plain": [
       "(True, 0.00036641601595526971, 'university town')"
      ]
     },
     "execution_count": 18,
     "metadata": {},
     "output_type": "execute_result"
    }
   ],
   "source": [
    "run_ttest()"
   ]
  },
  {
   "cell_type": "markdown",
   "metadata": {},
   "source": [
    "**The p-value is well below the 0.05 threshold and so we can reject the null hypothesis and claim that housing prices in university towns are less affected by recession.**"
   ]
  },
  {
   "cell_type": "code",
   "execution_count": null,
   "metadata": {
    "collapsed": true
   },
   "outputs": [],
   "source": []
  }
 ],
 "metadata": {
  "kernelspec": {
   "display_name": "Python 3",
   "language": "python",
   "name": "python3"
  },
  "language_info": {
   "codemirror_mode": {
    "name": "ipython",
    "version": 3
   },
   "file_extension": ".py",
   "mimetype": "text/x-python",
   "name": "python",
   "nbconvert_exporter": "python",
   "pygments_lexer": "ipython3",
   "version": "3.6.3"
  }
 },
 "nbformat": 4,
 "nbformat_minor": 2
}
